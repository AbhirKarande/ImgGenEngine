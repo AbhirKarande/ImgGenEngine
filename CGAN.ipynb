{
  "nbformat": 4,
  "nbformat_minor": 0,
  "metadata": {
    "colab": {
      "provenance": [],
      "authorship_tag": "ABX9TyPvgw4dIa9bQXOk/ZF4VXD5",
      "include_colab_link": true
    },
    "kernelspec": {
      "name": "python3",
      "display_name": "Python 3"
    },
    "language_info": {
      "name": "python"
    }
  },
  "cells": [
    {
      "cell_type": "markdown",
      "metadata": {
        "id": "view-in-github",
        "colab_type": "text"
      },
      "source": [
        "<a href=\"https://colab.research.google.com/github/AbhirKarande/ImgGenEngine/blob/main/CGAN.ipynb\" target=\"_parent\"><img src=\"https://colab.research.google.com/assets/colab-badge.svg\" alt=\"Open In Colab\"/></a>"
      ]
    },
    {
      "cell_type": "code",
      "execution_count": null,
      "metadata": {
        "id": "4Y-Hpi8-yQqR"
      },
      "outputs": [],
      "source": [
        "import torch\n",
        "import torch.nn as nn\n",
        "import torch.optim as optim\n",
        "import torchvision.datasets as dset\n",
        "import torchvision.transforms as transforms\n",
        "from torch.utils.data import DataLoader\n",
        "from torchvision.utils import save_image"
      ]
    },
    {
      "cell_type": "code",
      "source": [
        "class Generator(nn.Module):\n",
        "    def __init__(self, latent_dim, num_classes):\n",
        "        super(Generator, self).__init__()\n",
        "        self.label_emb = nn.Embedding(num_classes, num_classes)\n",
        "        self.fc = nn.Sequential(\n",
        "            nn.Linear(latent_dim + num_classes, 128),\n",
        "            nn.BatchNorm1d(128),\n",
        "            nn.ReLU(inplace=True),\n",
        "            nn.Linear(128, 256),\n",
        "            nn.BatchNorm1d(256),\n",
        "            nn.ReLU(inplace=True),\n",
        "            nn.Linear(256, 512),\n",
        "            nn.BatchNorm1d(512),\n",
        "            nn.ReLU(inplace=True),\n",
        "            nn.Linear(512, 1024),\n",
        "            nn.BatchNorm1d(1024),\n",
        "            nn.ReLU(inplace=True),\n",
        "            nn.Linear(1024, 784),\n",
        "            nn.Tanh()\n",
        "        )\n",
        "\n",
        "    def forward(self, noise, labels):\n",
        "        gen_input = torch.cat((self.label_emb(labels), noise), -1)\n",
        "        img = self.fc(gen_input)\n",
        "        img = img.view(img.size(0), 1, 28, 28)\n",
        "        return img"
      ],
      "metadata": {
        "id": "GpXOnOMbyUtk"
      },
      "execution_count": null,
      "outputs": []
    },
    {
      "cell_type": "code",
      "source": [
        "class Discriminator(nn.Module):\n",
        "    def __init__(self, num_classes):\n",
        "        super(Discriminator, self).__init__()\n",
        "        self.label_emb = nn.Embedding(num_classes, num_classes)\n",
        "        self.fc = nn.Sequential(\n",
        "            nn.Linear(784 + num_classes, 512),\n",
        "            nn.BatchNorm1d(512),\n",
        "            nn.LeakyReLU(0.2, inplace=True),\n",
        "            nn.Linear(512, 256),\n",
        "            nn.BatchNorm1d(256),\n",
        "            nn.LeakyReLU(0.2, inplace=True),\n",
        "            nn.Linear(256, 1),\n",
        "            nn.Sigmoid()\n",
        "        )\n",
        "\n",
        "    def forward(self, img, labels):\n",
        "        img = img.view(img.size(0), -1)\n",
        "        d_in = torch.cat((img, self.label_emb(labels)), -1)\n",
        "        validity = self.fc(d_in)\n",
        "        return validity"
      ],
      "metadata": {
        "id": "CcXLFYwK0w5e"
      },
      "execution_count": null,
      "outputs": []
    },
    {
      "cell_type": "code",
      "source": [
        "def train(generator, discriminator, optimizer_G, optimizer_D, dataloader, device, num_epochs, latent_dim, num_classes):\n",
        "    criterion = nn.BCELoss()\n",
        "\n",
        "    for epoch in range(num_epochs):\n",
        "        for i, (imgs, labels) in enumerate(dataloader):\n",
        "            batch_size = imgs.size(0)\n",
        "            real_imgs = imgs.to(device)\n",
        "            labels = labels.to(device)\n",
        "\n",
        "            # Train Generator\n",
        "            optimizer_G.zero_grad()\n",
        "\n",
        "            z = torch.randn(batch_size, latent_dim).to(device)\n",
        "            gen_labels = torch.randint(0, num_classes, (batch_size,)).to(device)\n",
        "            gen_imgs = generator(z, gen_labels)\n",
        "\n",
        "            validity = discriminator(gen_imgs, gen_labels)\n",
        "            g_loss = criterion(validity, torch.ones(batch_size, 1).to(device))\n",
        "\n",
        "            g_loss.backward()\n",
        "            optimizer_G.step()\n",
        "\n",
        "            # Train Discriminator\n",
        "            optimizer_D.zero_grad()\n",
        "\n",
        "            real_pred = discriminator(real_imgs, labels)\n",
        "            d_real_loss = criterion(real_pred, torch.ones(batch_size, 1).to(device))\n",
        "\n",
        "            fake_pred = discriminator(gen_imgs.detach(), gen_labels)\n",
        "            d_fake_loss = criterion(fake_pred, torch.zeros(batch_size, 1).to(device))\n",
        "\n",
        "            d_loss = d_real_loss + d_fake_loss\n",
        "\n",
        "            d_loss.backward()\n",
        "            optimizer_D.step()\n",
        "\n",
        "            # Print statistics\n",
        "            if i % 100 == 0:\n",
        "                print(\"[Epoch %d/%d] [Batch %d/%d] [D loss: %.4f] [G loss: %.4f]\"\n",
        "                      % (epoch, num_epochs, i, len(dataloader), d_loss.item(), g_loss.item()))\n",
        "\n",
        "        # Save generated images\n",
        "        save_image(gen_imgs.data[:25], \"images/%d.png\" % epoch, nrow=5, normalize=True)\n"
      ],
      "metadata": {
        "id": "ToeWjrZ-09ID"
      },
      "execution_count": null,
      "outputs": []
    }
  ]
}